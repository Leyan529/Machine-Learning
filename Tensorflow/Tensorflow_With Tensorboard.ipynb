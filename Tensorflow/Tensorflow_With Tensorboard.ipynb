{
 "cells": [
  {
   "cell_type": "code",
   "execution_count": 1,
   "metadata": {},
   "outputs": [
    {
     "name": "stdout",
     "output_type": "stream",
     "text": [
      "['/cpu:0', '/gpu:0']\n"
     ]
    }
   ],
   "source": [
    "#可用裝置清單\n",
    "from tensorflow.python.client import device_lib\n",
    "def get_available_gpus():\n",
    "    local_device_protos = device_lib.list_local_devices()\n",
    "    return [x.name for x in local_device_protos]\n",
    "print(get_available_gpus())\n",
    "\n",
    "#設定Jupyter對獨佔一行的所有變數或者語句都自動顯示\n",
    "from IPython.core.interactiveshell import InteractiveShell\n",
    "InteractiveShell.ast_node_interactivity = \"all\" \n",
    "\n",
    "import tensorflow as tf\n",
    "import os\n",
    "os.environ['CUDA_VISIBLE_DEVICES'] = \"0\" #指定使用第0個GPU\n",
    "gpu_options = tf.GPUOptions(allow_growth=True) #指定記憶體增長\n",
    "config = tf.ConfigProto(gpu_options=gpu_options) \n",
    "\n",
    "\n"
   ]
  },
  {
   "cell_type": "code",
   "execution_count": 2,
   "metadata": {},
   "outputs": [
    {
     "name": "stdout",
     "output_type": "stream",
     "text": [
      "const = 2\n",
      "result :  14\n",
      "area :  48\n",
      "t_sum :  62\n"
     ]
    }
   ],
   "source": [
    "#建立計算圖\n",
    "const = tf.constant(2,name='const')\n",
    "var = tf.Variable(const + 5,name='var')\n",
    "result = tf.multiply(const, var , name='result')\n",
    "\n",
    "width = tf.placeholder(\"int32\",name = 'width')\n",
    "height = tf.placeholder(\"int32\",name= 'height')\n",
    "area = tf.multiply(width,height,name='area') #變數乘法\n",
    "\n",
    "t_sum = tf.add(result,area,name='t_sum') #變數加法\n",
    "#執行計算圖\n",
    "\n",
    "with tf.Session(config=config) as sess:\n",
    "    init = tf.global_variables_initializer()\n",
    "    sess.run(init)\n",
    "    print('const =',sess.run(const))\n",
    "    print(\"result : \",sess.run(result))  \n",
    "    #feed_dict :等到執行計算圖才設定placeholder的參數值\n",
    "    print(\"area : \",sess.run(area,feed_dict={width:6,height:8}))   \n",
    "    print(\"t_sum : \",sess.run(t_sum,feed_dict={width:6,height:8})) \n",
    "    \n",
    "# TensorBoard視覺化指令\n",
    "# tensorboard --logdir E:/WorkSpace/TensorFlowWorkSpace/running_data/log/area"
   ]
  },
  {
   "cell_type": "code",
   "execution_count": 3,
   "metadata": {},
   "outputs": [
    {
     "name": "stdout",
     "output_type": "stream",
     "text": [
      "dimension_1 :  [[0.4 0.2 0.4]] (1, 3)\n",
      "dimension_2 :  [[-0.5 -0.2]\n",
      " [-0.3  0.4]\n",
      " [-0.5  0.2]] (3, 2)\n",
      "product :  [[-0.45999998  0.08000001]]\n",
      "c :  [[3. 3. 3.]] (1, 3)\n"
     ]
    }
   ],
   "source": [
    "#建立計算圖\n",
    "dimension_1 = tf.constant([[0.4,0.2,0.4]],name='dimension_1', dtype=tf.float32)\n",
    "dimension_2 = tf.constant([[-0.5,-0.2],\n",
    "                          [-0.3,0.4],\n",
    "                          [-0.5,0.2]],name='dimension_2', dtype=tf.float32)\n",
    "\n",
    "product = tf.matmul(dimension_1,dimension_2,name='product') #矩陣乘法\n",
    "\n",
    "a = tf.Variable([[1.,1.,1.]],name='a')\n",
    "b = tf.Variable([[2.,2.,2.]],name='b')\n",
    "c = a + b #矩陣加法\n",
    "\n",
    "#執行計算圖\n",
    "tf.summary.merge_all() #整理所有要顯示的內容到tensorboard\n",
    "with tf.Session(config=config) as sess:\n",
    "    init = tf.global_variables_initializer()\n",
    "    sess.run(init)\n",
    "    print(\"dimension_1 : \",sess.run(dimension_1),dimension_1.shape)    \n",
    "    print(\"dimension_2 : \",sess.run(dimension_2),dimension_2.shape) \n",
    "    print(\"product : \",sess.run(product))\n",
    "    \n",
    "    print(\"c : \",sess.run(c),c.shape)  \n",
    "    \n",
    "train_writer = tf.summary.FileWriter('E:/WorkSpace/TensorFlowWorkSpace/running_data/log/Introduce',\n",
    "                                    tf.get_default_graph())\n",
    "train_writer.close()    \n",
    "# TensorBoard視覺化指令\n",
    "# tensorboard --logdir E:/WorkSpace/TensorFlowWorkSpace/running_data/log/Introduce"
   ]
  },
  {
   "cell_type": "code",
   "execution_count": null,
   "metadata": {
    "collapsed": true
   },
   "outputs": [],
   "source": []
  }
 ],
 "metadata": {
  "kernelspec": {
   "display_name": "Python [conda env:tensorflow]",
   "language": "python",
   "name": "conda-env-tensorflow-py"
  },
  "language_info": {
   "codemirror_mode": {
    "name": "ipython",
    "version": 3
   },
   "file_extension": ".py",
   "mimetype": "text/x-python",
   "name": "python",
   "nbconvert_exporter": "python",
   "pygments_lexer": "ipython3",
   "version": "3.5.4"
  }
 },
 "nbformat": 4,
 "nbformat_minor": 2
}
