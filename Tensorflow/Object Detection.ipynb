{
 "cells": [
  {
   "cell_type": "code",
   "execution_count": 2,
   "metadata": {
    "scrolled": true
   },
   "outputs": [
    {
     "name": "stderr",
     "output_type": "stream",
     "text": [
      "D:\\Program\\Anaconda3\\envs\\tensorflow\\lib\\site-packages\\h5py\\__init__.py:36: FutureWarning: Conversion of the second argument of issubdtype from `float` to `np.floating` is deprecated. In future, it will be treated as `np.float64 == np.dtype(float).type`.\n",
      "  from ._conv import register_converters as _register_converters\n"
     ]
    },
    {
     "name": "stdout",
     "output_type": "stream",
     "text": [
      "['/device:CPU:0', '/device:GPU:0']\n"
     ]
    }
   ],
   "source": [
    "#可用裝置清單\n",
    "from tensorflow.python.client import device_lib\n",
    "def get_available_gpus():\n",
    "    local_device_protos = device_lib.list_local_devices()\n",
    "    return [x.name for x in local_device_protos]\n",
    "print(get_available_gpus())\n",
    "\n",
    "#設定Jupyter對獨佔一行的所有變數或者語句都自動顯示\n",
    "from IPython.core.interactiveshell import InteractiveShell\n",
    "InteractiveShell.ast_node_interactivity = \"all\" \n",
    "\n",
    "import matplotlib.pyplot as plt\n",
    "import pandas as pd\n",
    "import tensorflow as tf\n",
    "import numpy as np\n",
    "import os\n",
    "from time import time\n",
    "os.environ['CUDA_VISIBLE_DEVICES'] = \"0\" #指定使用第0個GPU\n",
    "\n",
    "\n",
    "# gpu_options = tf.GPUOptions(allow_growth=True) #指定記憶體增長\n",
    "gpu_options = tf.GPUOptions(per_process_gpu_memory_fraction=0.7) #限制記憶體使用量\n",
    "config = tf.ConfigProto(gpu_options=gpu_options)\n"
   ]
  },
  {
   "cell_type": "code",
   "execution_count": 3,
   "metadata": {},
   "outputs": [],
   "source": [
    "import urllib.request\n",
    "import tarfile\n",
    "url = \"https://github.com/OlafenwaMoses/ImageAI/releases/download/1.0/resnet50_coco_best_v2.0.1.h5\"\n",
    "\n",
    "if os.path.exists('E:\\\\'):\n",
    "    path = 'E:/WorkSpace/TensorFlowWorkSpace/running_data/Saved_model'\n",
    "elif os.path.exists('D:\\\\'):\n",
    "    path = 'D:/WorkSpace/TensorFlowWorkSpace/running_data/Saved_model'\n",
    "    \n",
    "if not os.path.exists(path):\n",
    "    os.makedirs(path)\n",
    "    \n",
    "filePath = os.path.join(path,\"resnet50_coco_best_v2.0.1.h5\")\n",
    "\n",
    "download_progress = 0\n",
    "\n",
    "def report(block_no, block_size, file_size): #列出下載進度function\n",
    "    global download_progress\n",
    "    download_progress += block_size\n",
    "    if (block_no % 500 == 0) or (download_progress == file_size):\n",
    "        print(\"Downloaded block %i, %i/%i bytes recieved.\"% (block_no, download_progress, file_size))\n",
    "\n",
    "if not os.path.isfile(filePath): \n",
    "    result, headers = urllib.request.urlretrieve(url,filePath,reporthook=report)\n",
    "    print(\"Download complete, saved as %s\" % (result))"
   ]
  },
  {
   "cell_type": "code",
   "execution_count": 4,
   "metadata": {},
   "outputs": [
    {
     "name": "stderr",
     "output_type": "stream",
     "text": [
      "Using TensorFlow backend.\n"
     ]
    },
    {
     "name": "stdout",
     "output_type": "stream",
     "text": [
      "person:99.60397481918335\n"
     ]
    }
   ],
   "source": [
    "from imageai.Detection import ObjectDetection\n",
    "import os,requests    \n",
    "\n",
    "dector = ObjectDetection()\n",
    "dector.setModelTypeAsRetinaNet()\n",
    "dector.setModelPath(os.path.join(path,'resnet50_coco_best_v2.0.1.h5'))\n",
    "dector.loadModel()\n",
    "dections = dector.detectObjectsFromImage(input_image=os.path.join(os.getcwd(),'image.jpg'),\n",
    "                                         output_image_path=os.path.join(os.getcwd(),'ObjectDection.jpg')\n",
    "                                        )\n",
    "for eachObject in dections:\n",
    "    print(\"{}:{}\".format(eachObject['name'],eachObject[\"percentage_probability\"]))"
   ]
  },
  {
   "cell_type": "code",
   "execution_count": null,
   "metadata": {},
   "outputs": [],
   "source": [
    "tf.__version__"
   ]
  }
 ],
 "metadata": {
  "kernelspec": {
   "display_name": "Python [conda env:tensorflow]",
   "language": "python",
   "name": "conda-env-tensorflow-py"
  },
  "language_info": {
   "codemirror_mode": {
    "name": "ipython",
    "version": 3
   },
   "file_extension": ".py",
   "mimetype": "text/x-python",
   "name": "python",
   "nbconvert_exporter": "python",
   "pygments_lexer": "ipython3",
   "version": "3.5.5"
  }
 },
 "nbformat": 4,
 "nbformat_minor": 2
}
