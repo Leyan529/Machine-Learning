{
 "cells": [
  {
   "cell_type": "code",
   "execution_count": 1,
   "metadata": {},
   "outputs": [
    {
     "name": "stdout",
     "output_type": "stream",
     "text": [
      "['/cpu:0', '/gpu:0']\n"
     ]
    }
   ],
   "source": [
    "#可用裝置清單\n",
    "from tensorflow.python.client import device_lib\n",
    "def get_available_gpus():\n",
    "    local_device_protos = device_lib.list_local_devices()\n",
    "    return [x.name for x in local_device_protos]\n",
    "print(get_available_gpus())\n",
    "\n",
    "#設定Jupyter對獨佔一行的所有變數或者語句都自動顯示\n",
    "from IPython.core.interactiveshell import InteractiveShell\n",
    "InteractiveShell.ast_node_interactivity = \"all\" \n",
    "\n",
    "import matplotlib.pyplot as plt\n",
    "import pandas as pd\n",
    "import tensorflow as tf\n",
    "import numpy as np\n",
    "import os\n",
    "from time import time\n",
    "os.environ['CUDA_VISIBLE_DEVICES'] = \"0\" #指定使用第0個GPU\n",
    "gpu_options = tf.GPUOptions(allow_growth=True) #指定記憶體增長\n",
    "config = tf.ConfigProto(gpu_options=gpu_options)"
   ]
  },
  {
   "cell_type": "code",
   "execution_count": 2,
   "metadata": {
    "collapsed": true
   },
   "outputs": [],
   "source": [
    "import urllib.request\n",
    "url = 'http://biostat.mc.vanderbilt.edu/wiki/pub/Main/DataSets/titanic3.xls'\n",
    "filepath = \"E:/WorkSpace/TensorFlowWorkSpace/running_data/download_data/titanic3.xls\"\n",
    "if not os.path.isfile(filepath):\n",
    "    result = urllib.request.urlretrieve(url,filepath)\n",
    "    print(url)\n",
    "    print('download:',result)"
   ]
  },
  {
   "cell_type": "code",
   "execution_count": 3,
   "metadata": {},
   "outputs": [
    {
     "data": {
      "text/html": [
       "<div>\n",
       "<style scoped>\n",
       "    .dataframe tbody tr th:only-of-type {\n",
       "        vertical-align: middle;\n",
       "    }\n",
       "\n",
       "    .dataframe tbody tr th {\n",
       "        vertical-align: top;\n",
       "    }\n",
       "\n",
       "    .dataframe thead th {\n",
       "        text-align: right;\n",
       "    }\n",
       "</style>\n",
       "<table border=\"1\" class=\"dataframe\">\n",
       "  <thead>\n",
       "    <tr style=\"text-align: right;\">\n",
       "      <th></th>\n",
       "      <th>survived</th>\n",
       "      <th>name</th>\n",
       "      <th>pclass</th>\n",
       "      <th>sex</th>\n",
       "      <th>age</th>\n",
       "      <th>sibsp</th>\n",
       "      <th>parch</th>\n",
       "      <th>fare</th>\n",
       "      <th>embarked</th>\n",
       "    </tr>\n",
       "  </thead>\n",
       "  <tbody>\n",
       "    <tr>\n",
       "      <th>0</th>\n",
       "      <td>1</td>\n",
       "      <td>Allen, Miss. Elisabeth Walton</td>\n",
       "      <td>1</td>\n",
       "      <td>female</td>\n",
       "      <td>29.0000</td>\n",
       "      <td>0</td>\n",
       "      <td>0</td>\n",
       "      <td>211.3375</td>\n",
       "      <td>S</td>\n",
       "    </tr>\n",
       "    <tr>\n",
       "      <th>1</th>\n",
       "      <td>1</td>\n",
       "      <td>Allison, Master. Hudson Trevor</td>\n",
       "      <td>1</td>\n",
       "      <td>male</td>\n",
       "      <td>0.9167</td>\n",
       "      <td>1</td>\n",
       "      <td>2</td>\n",
       "      <td>151.5500</td>\n",
       "      <td>S</td>\n",
       "    </tr>\n",
       "  </tbody>\n",
       "</table>\n",
       "</div>"
      ],
      "text/plain": [
       "   survived                            name  pclass     sex      age  sibsp  \\\n",
       "0         1   Allen, Miss. Elisabeth Walton       1  female  29.0000      0   \n",
       "1         1  Allison, Master. Hudson Trevor       1    male   0.9167      1   \n",
       "\n",
       "   parch      fare embarked  \n",
       "0      0  211.3375        S  \n",
       "1      2  151.5500        S  "
      ]
     },
     "execution_count": 3,
     "metadata": {},
     "output_type": "execute_result"
    }
   ],
   "source": [
    "titani_df = pd.read_excel(filepath)\n",
    "cols = ['survived','name','pclass','sex','age','sibsp','parch','fare','embarked'] #選取指定column\n",
    "titani_df = titani_df[cols]\n",
    "titani_df[:2]"
   ]
  },
  {
   "cell_type": "code",
   "execution_count": 4,
   "metadata": {},
   "outputs": [
    {
     "name": "stdout",
     "output_type": "stream",
     "text": [
      "train_df比例:45%\n",
      "valid_df比例:4%\n",
      "test_df比例:49%\n",
      "\n",
      "total筆數:1309\n",
      "train筆數:600\n",
      "valid筆數:60\n",
      "test筆數:649\n"
     ]
    }
   ],
   "source": [
    "from  sklearn import preprocessing #sklearn預處理模組\n",
    "msk = np.random.rand(len(titani_df)) < 0.5\n",
    "train_df = titani_df[msk]\n",
    "test_df = titani_df[~msk]\n",
    "\n",
    "msk2 = np.random.rand(len(train_df)) < 0.1\n",
    "valid_df = train_df[msk2]\n",
    "train_df = train_df[~msk2]\n",
    "\n",
    "print('train_df比例:{}%\\nvalid_df比例:{}%\\ntest_df比例:{}%\\n'.format(\n",
    "    int(len(train_df)/len(titani_df)*100),\n",
    "    int(len(valid_df)/len(titani_df)*100),\n",
    "    int(len(test_df)/len(titani_df)*100)))\n",
    "      \n",
    "print('total筆數:{}\\ntrain筆數:{}\\nvalid筆數:{}\\ntest筆數:{}'.format(\\\n",
    "    len(titani_df),len(train_df),len(valid_df),len(test_df)))      "
   ]
  },
  {
   "cell_type": "code",
   "execution_count": 5,
   "metadata": {},
   "outputs": [],
   "source": [
    "def PreprocessData(raw_df):\n",
    "    df = raw_df.drop(['name'],axis=1) #訓練df不需要name欄位\n",
    "    age_mean = df['age'].mean() #age_mean :年齡平均值\n",
    "    df['age'] = df['age'].fillna(age_mean) #將age欄中的空值填入平均值\n",
    "    fare_mean = df['fare'].mean() #fare_mean :fare平均值\n",
    "    df['fare'] = df['fare'].fillna(fare_mean)    \n",
    "    df['sex'] = df['sex'].map({'female':0,'male':1}).astype(int) #將男女性別轉換為0和1\n",
    "    \n",
    "    x_OneHot_df = pd.get_dummies(data=df , columns=['embarked']) #將embarked欄位以pandas進行OneHot encode\n",
    "    ndarray = x_OneHot_df.values\n",
    "    Label = ndarray[:,0] #取出每筆資料的資料欄位0，作為Label\n",
    "    Feature = ndarray[ : , 1:] #取出每筆資料的從欄位1之後的欄位，作為Feature\n",
    "    \n",
    "    minmax_scale = preprocessing.MinMaxScaler(feature_range=(0,1)) #建立標準化刻度    \n",
    "    if np.isnan(Feature).any(): # 檢查數據中是否有缺失值\n",
    "        print('缺失值 : ',np.isnan(Feature).any()) \n",
    "        for dim1,i in enumerate(Feature):\n",
    "            for dim2,j in enumerate(i):\n",
    "                if np.isnan(j).any():\n",
    "                    print(dim1,dim2,j)\n",
    "                    i[dim2] = 0 #對缺失值進行填充處理\n",
    "    scaleFeature = minmax_scale.fit_transform(Feature) #以minmax_scale標準化刻度進行標準化\n",
    "    Label = np.reshape(Label,(-1,1))\n",
    "    \n",
    "    return scaleFeature,Label\n",
    "\n",
    "train_Features,train_labels = PreprocessData(train_df)    \n",
    "valid_Features,valid_labels = PreprocessData(valid_df)\n",
    "test_Features,test_labels = PreprocessData(test_df)"
   ]
  },
  {
   "cell_type": "code",
   "execution_count": 6,
   "metadata": {},
   "outputs": [
    {
     "data": {
      "text/plain": [
       "array([[0.        , 1.        , 0.00771013, 0.125     , 0.33333333,\n",
       "        0.2958059 , 0.        , 0.        , 1.        ],\n",
       "       [0.        , 1.        , 0.62995611, 0.        , 0.        ,\n",
       "        0.05182215, 0.        , 0.        , 1.        ]])"
      ]
     },
     "execution_count": 6,
     "metadata": {},
     "output_type": "execute_result"
    },
    {
     "data": {
      "text/plain": [
       "array([[1.],\n",
       "       [1.]])"
      ]
     },
     "execution_count": 6,
     "metadata": {},
     "output_type": "execute_result"
    },
    {
     "data": {
      "text/plain": [
       "array([[0.        , 0.        , 0.85454545, 0.        , 0.11111111,\n",
       "        0.94114373, 1.        , 0.        , 0.        ],\n",
       "       [0.        , 0.        , 1.        , 0.        , 0.        ,\n",
       "        0.10095057, 0.        , 0.        , 1.        ]])"
      ]
     },
     "execution_count": 6,
     "metadata": {},
     "output_type": "execute_result"
    },
    {
     "data": {
      "text/plain": [
       "array([[0.        , 0.        , 0.85454545, 0.        , 0.11111111,\n",
       "        0.94114373, 1.        , 0.        , 0.        ],\n",
       "       [0.        , 0.        , 1.        , 0.        , 0.        ,\n",
       "        0.10095057, 0.        , 0.        , 1.        ]])"
      ]
     },
     "execution_count": 6,
     "metadata": {},
     "output_type": "execute_result"
    },
    {
     "data": {
      "text/plain": [
       "array([[0.        , 0.        , 0.36116884, 0.        , 0.        ,\n",
       "        0.41250333, 0.        , 0.        , 1.        ],\n",
       "       [0.        , 0.        , 0.0229641 , 0.125     , 0.22222222,\n",
       "        0.2958059 , 0.        , 0.        , 1.        ]])"
      ]
     },
     "execution_count": 6,
     "metadata": {},
     "output_type": "execute_result"
    },
    {
     "data": {
      "text/plain": [
       "array([[0.        , 0.        , 0.36116884, 0.        , 0.        ,\n",
       "        0.41250333, 0.        , 0.        , 1.        ],\n",
       "       [0.        , 0.        , 0.0229641 , 0.125     , 0.22222222,\n",
       "        0.2958059 , 0.        , 0.        , 1.        ]])"
      ]
     },
     "execution_count": 6,
     "metadata": {},
     "output_type": "execute_result"
    }
   ],
   "source": [
    "train_Features[:2]\n",
    "train_labels[:2]\n",
    "\n",
    "valid_Features[:2]\n",
    "valid_Features[:2]\n",
    "\n",
    "test_Features[:2]\n",
    "test_Features[:2]"
   ]
  },
  {
   "cell_type": "code",
   "execution_count": 17,
   "metadata": {
    "scrolled": true
   },
   "outputs": [],
   "source": [
    "#模型函數定義\n",
    "def layer(input_dim,output_dim,inputs,activation):\n",
    "    W = tf.Variable(tf.random_normal([input_dim,output_dim]),name='W') \n",
    "    b = tf.Variable(tf.random_normal([1,output_dim]),name='b')\n",
    "    outputs = tf.matmul(inputs,W,name='matmul') + b \n",
    "    if activation ==None:\n",
    "        return outputs\n",
    "    else: \n",
    "        return activation(outputs)\n",
    "    \n",
    "#MLP model架構\n",
    "with tf.name_scope('Input_Layer'):\n",
    "    x = tf.placeholder(tf.float32,[None,9])    \n",
    "\n",
    "with tf.name_scope('Hidden_Layer1'):    \n",
    "    h1 = layer(input_dim=9,\n",
    "               output_dim=40,\n",
    "               inputs=x,\n",
    "               activation=tf.nn.relu)\n",
    "with tf.name_scope('Hidden_Layer2'):   \n",
    "    h2 = layer(input_dim=40,\n",
    "               output_dim=100,\n",
    "               inputs=h1,\n",
    "               activation=tf.nn.relu)\n",
    "with tf.name_scope('Output_Layer'):       \n",
    "    y_predict = layer(input_dim=100, # y_predict : 每次epoch的預測值\n",
    "              output_dim=1,\n",
    "              inputs=h2,\n",
    "              activation=tf.nn.sigmoid)\n",
    "with tf.name_scope('optimizer'):    \n",
    "    y_label = tf.placeholder(tf.float32,[None,1]) # y_predict : 每次epoch的真實label\n",
    "    #定義loss function\n",
    "    loss_function = tf.reduce_mean(tf.nn.softmax_cross_entropy_with_logits(logits=y_predict,\n",
    "                                                                            labels=y_label))\n",
    "    #定義Optimizer function\n",
    "    optimizer = tf.train.AdamOptimizer(learning_rate=0.001).minimize(loss_function)\n",
    "\n",
    "with tf.name_scope('evaluate_model'):                                                                              \n",
    "    #定義模型預測\n",
    "    prediction = tf.equal(tf.argmax(y_predict,1),tf.argmax(y_label,1))\n",
    "    #定義模型準確率\n",
    "    accuracy = tf.reduce_mean(tf.cast(prediction,tf.float32))\n"
   ]
  },
  {
   "cell_type": "code",
   "execution_count": 18,
   "metadata": {
    "scrolled": true
   },
   "outputs": [
    {
     "name": "stdout",
     "output_type": "stream",
     "text": [
      "6\n",
      "0 ~ 100\n",
      "100 ~ 200\n",
      "200 ~ 300\n",
      "300 ~ 400\n",
      "400 ~ 500\n",
      "500 ~ 600\n",
      "Train Epoch: 01 , Loss = 0.000000000 , Accuracy= 1.0\n",
      "0 ~ 100\n",
      "100 ~ 200\n",
      "200 ~ 300\n",
      "300 ~ 400\n",
      "400 ~ 500\n",
      "500 ~ 600\n",
      "Train Epoch: 02 , Loss = 0.000000000 , Accuracy= 1.0\n",
      "0 ~ 100\n",
      "100 ~ 200\n",
      "200 ~ 300\n",
      "300 ~ 400\n",
      "400 ~ 500\n",
      "500 ~ 600\n",
      "Train Epoch: 03 , Loss = 0.000000000 , Accuracy= 1.0\n",
      "0 ~ 100\n",
      "100 ~ 200\n",
      "200 ~ 300\n",
      "300 ~ 400\n",
      "400 ~ 500\n",
      "500 ~ 600\n",
      "Train Epoch: 04 , Loss = 0.000000000 , Accuracy= 1.0\n",
      "0 ~ 100\n",
      "100 ~ 200\n",
      "200 ~ 300\n",
      "300 ~ 400\n",
      "400 ~ 500\n",
      "500 ~ 600\n",
      "Train Epoch: 05 , Loss = 0.000000000 , Accuracy= 1.0\n",
      "0 ~ 100\n",
      "100 ~ 200\n",
      "200 ~ 300\n",
      "300 ~ 400\n",
      "400 ~ 500\n",
      "500 ~ 600\n",
      "Train Epoch: 06 , Loss = 0.000000000 , Accuracy= 1.0\n",
      "0 ~ 100\n",
      "100 ~ 200\n",
      "200 ~ 300\n",
      "300 ~ 400\n",
      "400 ~ 500\n",
      "500 ~ 600\n",
      "Train Epoch: 07 , Loss = 0.000000000 , Accuracy= 1.0\n",
      "0 ~ 100\n",
      "100 ~ 200\n",
      "200 ~ 300\n",
      "300 ~ 400\n",
      "400 ~ 500\n",
      "500 ~ 600\n",
      "Train Epoch: 08 , Loss = 0.000000000 , Accuracy= 1.0\n",
      "0 ~ 100\n",
      "100 ~ 200\n",
      "200 ~ 300\n",
      "300 ~ 400\n",
      "400 ~ 500\n",
      "500 ~ 600\n",
      "Train Epoch: 09 , Loss = 0.000000000 , Accuracy= 1.0\n",
      "0 ~ 100\n",
      "100 ~ 200\n",
      "200 ~ 300\n",
      "300 ~ 400\n",
      "400 ~ 500\n",
      "500 ~ 600\n",
      "Train Epoch: 10 , Loss = 0.000000000 , Accuracy= 1.0\n",
      "0 ~ 100\n",
      "100 ~ 200\n",
      "200 ~ 300\n",
      "300 ~ 400\n",
      "400 ~ 500\n",
      "500 ~ 600\n",
      "Train Epoch: 11 , Loss = 0.000000000 , Accuracy= 1.0\n",
      "0 ~ 100\n",
      "100 ~ 200\n",
      "200 ~ 300\n",
      "300 ~ 400\n",
      "400 ~ 500\n",
      "500 ~ 600\n",
      "Train Epoch: 12 , Loss = 0.000000000 , Accuracy= 1.0\n",
      "0 ~ 100\n",
      "100 ~ 200\n",
      "200 ~ 300\n",
      "300 ~ 400\n",
      "400 ~ 500\n",
      "500 ~ 600\n",
      "Train Epoch: 13 , Loss = 0.000000000 , Accuracy= 1.0\n",
      "0 ~ 100\n",
      "100 ~ 200\n",
      "200 ~ 300\n",
      "300 ~ 400\n",
      "400 ~ 500\n",
      "500 ~ 600\n",
      "Train Epoch: 14 , Loss = 0.000000000 , Accuracy= 1.0\n",
      "0 ~ 100\n",
      "100 ~ 200\n",
      "200 ~ 300\n",
      "300 ~ 400\n",
      "400 ~ 500\n",
      "500 ~ 600\n",
      "Train Epoch: 15 , Loss = 0.000000000 , Accuracy= 1.0\n",
      "0 ~ 100\n",
      "100 ~ 200\n",
      "200 ~ 300\n",
      "300 ~ 400\n",
      "400 ~ 500\n",
      "500 ~ 600\n",
      "Train Epoch: 16 , Loss = 0.000000000 , Accuracy= 1.0\n",
      "0 ~ 100\n",
      "100 ~ 200\n",
      "200 ~ 300\n",
      "300 ~ 400\n",
      "400 ~ 500\n",
      "500 ~ 600\n",
      "Train Epoch: 17 , Loss = 0.000000000 , Accuracy= 1.0\n",
      "0 ~ 100\n",
      "100 ~ 200\n",
      "200 ~ 300\n",
      "300 ~ 400\n",
      "400 ~ 500\n",
      "500 ~ 600\n",
      "Train Epoch: 18 , Loss = 0.000000000 , Accuracy= 1.0\n",
      "0 ~ 100\n",
      "100 ~ 200\n",
      "200 ~ 300\n",
      "300 ~ 400\n",
      "400 ~ 500\n",
      "500 ~ 600\n",
      "Train Epoch: 19 , Loss = 0.000000000 , Accuracy= 1.0\n",
      "0 ~ 100\n",
      "100 ~ 200\n",
      "200 ~ 300\n",
      "300 ~ 400\n",
      "400 ~ 500\n",
      "500 ~ 600\n",
      "Train Epoch: 20 , Loss = 0.000000000 , Accuracy= 1.0\n",
      "0 ~ 100\n",
      "100 ~ 200\n",
      "200 ~ 300\n",
      "300 ~ 400\n",
      "400 ~ 500\n",
      "500 ~ 600\n",
      "Train Epoch: 21 , Loss = 0.000000000 , Accuracy= 1.0\n",
      "0 ~ 100\n",
      "100 ~ 200\n",
      "200 ~ 300\n",
      "300 ~ 400\n",
      "400 ~ 500\n",
      "500 ~ 600\n",
      "Train Epoch: 22 , Loss = 0.000000000 , Accuracy= 1.0\n",
      "0 ~ 100\n",
      "100 ~ 200\n",
      "200 ~ 300\n",
      "300 ~ 400\n",
      "400 ~ 500\n",
      "500 ~ 600\n",
      "Train Epoch: 23 , Loss = 0.000000000 , Accuracy= 1.0\n",
      "0 ~ 100\n",
      "100 ~ 200\n",
      "200 ~ 300\n",
      "300 ~ 400\n",
      "400 ~ 500\n",
      "500 ~ 600\n",
      "Train Epoch: 24 , Loss = 0.000000000 , Accuracy= 1.0\n",
      "0 ~ 100\n",
      "100 ~ 200\n",
      "200 ~ 300\n",
      "300 ~ 400\n",
      "400 ~ 500\n",
      "500 ~ 600\n",
      "Train Epoch: 25 , Loss = 0.000000000 , Accuracy= 1.0\n",
      "0 ~ 100\n",
      "100 ~ 200\n",
      "200 ~ 300\n",
      "300 ~ 400\n",
      "400 ~ 500\n",
      "500 ~ 600\n",
      "Train Epoch: 26 , Loss = 0.000000000 , Accuracy= 1.0\n",
      "0 ~ 100\n",
      "100 ~ 200\n",
      "200 ~ 300\n",
      "300 ~ 400\n",
      "400 ~ 500\n",
      "500 ~ 600\n",
      "Train Epoch: 27 , Loss = 0.000000000 , Accuracy= 1.0\n",
      "0 ~ 100\n",
      "100 ~ 200\n",
      "200 ~ 300\n",
      "300 ~ 400\n",
      "400 ~ 500\n",
      "500 ~ 600\n",
      "Train Epoch: 28 , Loss = 0.000000000 , Accuracy= 1.0\n",
      "0 ~ 100\n",
      "100 ~ 200\n",
      "200 ~ 300\n",
      "300 ~ 400\n",
      "400 ~ 500\n",
      "500 ~ 600\n",
      "Train Epoch: 29 , Loss = 0.000000000 , Accuracy= 1.0\n",
      "0 ~ 100\n",
      "100 ~ 200\n",
      "200 ~ 300\n",
      "300 ~ 400\n",
      "400 ~ 500\n",
      "500 ~ 600\n",
      "Train Epoch: 30 , Loss = 0.000000000 , Accuracy= 1.0\n",
      "Train Finished cost  0.6891598701477051\n",
      "Accuracy: 1.0\n"
     ]
    },
    {
     "data": {
      "text/html": [
       "<div>\n",
       "<style scoped>\n",
       "    .dataframe tbody tr th:only-of-type {\n",
       "        vertical-align: middle;\n",
       "    }\n",
       "\n",
       "    .dataframe tbody tr th {\n",
       "        vertical-align: top;\n",
       "    }\n",
       "\n",
       "    .dataframe thead th {\n",
       "        text-align: right;\n",
       "    }\n",
       "</style>\n",
       "<table border=\"1\" class=\"dataframe\">\n",
       "  <thead>\n",
       "    <tr style=\"text-align: right;\">\n",
       "      <th></th>\n",
       "      <th>survived</th>\n",
       "      <th>name</th>\n",
       "      <th>pclass</th>\n",
       "      <th>sex</th>\n",
       "      <th>age</th>\n",
       "      <th>sibsp</th>\n",
       "      <th>parch</th>\n",
       "      <th>fare</th>\n",
       "      <th>embarked</th>\n",
       "    </tr>\n",
       "  </thead>\n",
       "  <tbody>\n",
       "    <tr>\n",
       "      <th>0</th>\n",
       "      <td>0</td>\n",
       "      <td>Jack</td>\n",
       "      <td>3</td>\n",
       "      <td>male</td>\n",
       "      <td>23.0</td>\n",
       "      <td>1</td>\n",
       "      <td>0</td>\n",
       "      <td>5.0</td>\n",
       "      <td>S</td>\n",
       "    </tr>\n",
       "    <tr>\n",
       "      <th>1</th>\n",
       "      <td>1</td>\n",
       "      <td>Rose</td>\n",
       "      <td>1</td>\n",
       "      <td>female</td>\n",
       "      <td>20.0</td>\n",
       "      <td>1</td>\n",
       "      <td>0</td>\n",
       "      <td>100.0</td>\n",
       "      <td>S</td>\n",
       "    </tr>\n",
       "  </tbody>\n",
       "</table>\n",
       "</div>"
      ],
      "text/plain": [
       "   survived  name  pclass     sex   age  sibsp  parch   fare embarked\n",
       "0         0  Jack       3    male  23.0      1      0    5.0        S\n",
       "1         1  Rose       1  female  20.0      1      0  100.0        S"
      ]
     },
     "execution_count": 18,
     "metadata": {},
     "output_type": "execute_result"
    }
   ],
   "source": [
    "def get_batch(data_x,data_y,step,batch_size):  \n",
    "    batch_x=data_x[ step*batch_size : (step+1) * batch_size ]\n",
    "    batch_y=data_y[ step*batch_size : (step+1) * batch_size ]\n",
    "    print(\"{} ~ {}\".format(step*batch_size,(step+1) * batch_size))\n",
    "    return batch_x,batch_y\n",
    "        \n",
    "#定義訓練參數\n",
    "trainEpochs = 30\n",
    "batchSize = 100\n",
    "totalBatch =int(len(train_Features) / batchSize)\n",
    "print(totalBatch)\n",
    "loss_list = [];  epoch_list = []; accuracy_list= []\n",
    "\n",
    "startime = time()\n",
    "with tf.Session(config=config) as sess:\n",
    "    init = tf.global_variables_initializer()\n",
    "    sess.run(init)\n",
    "    for epoch in range(trainEpochs):\n",
    "        for i in range(totalBatch):\n",
    "            batch_x,batch_y = get_batch(train_Features,train_labels,i,batchSize)\n",
    "            sess.run(optimizer,feed_dict={x:batch_x,y_label:batch_y}) \n",
    "            loss,acc = sess.run([loss_function,accuracy],feed_dict={x:valid_Features,\n",
    "                                                                    y_label:valid_labels})\n",
    "        epoch_list.append(epoch)\n",
    "        loss_list.append(loss)\n",
    "        accuracy_list.append(acc)\n",
    "        print(\"Train Epoch:\" , '%02d'%(epoch+1), \", Loss =\",'%.9f'% loss,\", Accuracy=\",acc)\n",
    "    duration = time() - startime \n",
    "    print(\"Train Finished cost \" , duration)\n",
    "    print(\"Accuracy:\",sess.run(accuracy,feed_dict={x:test_Features,\n",
    "                                                   y_label:test_labels}))    \n",
    "    \n",
    "    # 建立Jack & Rose的相關資料\n",
    "    Jack = pd.Series([0,'Jack',3,'male',23,1,0,5.0000,'S'])\n",
    "    Rose = pd.Series([1,'Rose',1,'female',20,1,0,100.0000,'S'])\n",
    "    JR_df = pd.DataFrame([list(Jack),list(Rose)],\n",
    "                          columns=['survived','name','pclass','sex','age','sibsp','parch','fare','embarked'])\n",
    "    # 合併Jack & Rose的相關資料\n",
    "    all_df = pd.concat([titani_df,JR_df])\n",
    "    all_df[-2:]\n",
    "    all_features,Label = PreprocessData(all_df)     \n",
    "    prediction_result = sess.run(tf.argmax(y_predict,1),feed_dict={x:all_features}) \n",
    "    \n",
    "train_writer = tf.summary.FileWriter('E:/WorkSpace/TensorFlowWorkSpace/running_data/log/Titanic3_MLP',\n",
    "                                    tf.get_default_graph())\n",
    "train_writer.close() \n",
    "# TensorBoard視覺化指令\n",
    "# tensorboard --logdir E:/WorkSpace/TensorFlowWorkSpace/running_data/log/Titanic3_MLP"
   ]
  },
  {
   "cell_type": "code",
   "execution_count": 9,
   "metadata": {},
   "outputs": [
    {
     "data": {
      "text/plain": [
       "<Figure size 432x288 with 0 Axes>"
      ]
     },
     "execution_count": 9,
     "metadata": {},
     "output_type": "execute_result"
    },
    {
     "data": {
      "text/plain": [
       "<matplotlib.axes._subplots.AxesSubplot at 0x1f1656c4eb8>"
      ]
     },
     "execution_count": 9,
     "metadata": {},
     "output_type": "execute_result"
    },
    {
     "data": {
      "text/plain": [
       "[<matplotlib.lines.Line2D at 0x1f1656c4c88>]"
      ]
     },
     "execution_count": 9,
     "metadata": {},
     "output_type": "execute_result"
    },
    {
     "data": {
      "text/plain": [
       "Text(0.5,1,'誤差值趨勢圖')"
      ]
     },
     "execution_count": 9,
     "metadata": {},
     "output_type": "execute_result"
    },
    {
     "data": {
      "text/plain": [
       "Text(0.5,0,'epoch')"
      ]
     },
     "execution_count": 9,
     "metadata": {},
     "output_type": "execute_result"
    },
    {
     "data": {
      "text/plain": [
       "Text(0,0.5,'loss')"
      ]
     },
     "execution_count": 9,
     "metadata": {},
     "output_type": "execute_result"
    },
    {
     "data": {
      "text/plain": [
       "(0, 15)"
      ]
     },
     "execution_count": 9,
     "metadata": {},
     "output_type": "execute_result"
    },
    {
     "data": {
      "text/plain": [
       "<matplotlib.legend.Legend at 0x1f168325400>"
      ]
     },
     "execution_count": 9,
     "metadata": {},
     "output_type": "execute_result"
    },
    {
     "data": {
      "text/plain": [
       "<matplotlib.axes._subplots.AxesSubplot at 0x1f16832ed30>"
      ]
     },
     "execution_count": 9,
     "metadata": {},
     "output_type": "execute_result"
    },
    {
     "data": {
      "text/plain": [
       "[<matplotlib.lines.Line2D at 0x1f168338320>]"
      ]
     },
     "execution_count": 9,
     "metadata": {},
     "output_type": "execute_result"
    },
    {
     "data": {
      "text/plain": [
       "Text(0.5,1,'準確率趨勢圖')"
      ]
     },
     "execution_count": 9,
     "metadata": {},
     "output_type": "execute_result"
    },
    {
     "data": {
      "text/plain": [
       "Text(0.5,0,'epoch')"
      ]
     },
     "execution_count": 9,
     "metadata": {},
     "output_type": "execute_result"
    },
    {
     "data": {
      "text/plain": [
       "Text(0,0.5,'accuracy')"
      ]
     },
     "execution_count": 9,
     "metadata": {},
     "output_type": "execute_result"
    },
    {
     "data": {
      "text/plain": [
       "(0, 15)"
      ]
     },
     "execution_count": 9,
     "metadata": {},
     "output_type": "execute_result"
    },
    {
     "data": {
      "image/png": "[encoded data removed]",
      "text/plain": [
       "<Figure size 432x288 with 2 Axes>"
      ]
     },
     "metadata": {},
     "output_type": "display_data"
    }
   ],
   "source": [
    "# loss_list\n",
    "%matplotlib inline\n",
    "\n",
    "left = 0.125 # the left side of the subplots of the figure\n",
    "right = 2 # the right side of the subplots of the figure\n",
    "bottom = 0.1 # the bottom of the subplots of the figure\n",
    "top = 0.9 # the top of the subplots of the figure\n",
    "wspace = 0.2 # the amount of width reserved for blank space between subplots\n",
    "hspace = 0.5 # the amount of height reserved for white space between subplots\n",
    "\n",
    "plt.subplots_adjust(left, bottom, right, top, wspace, hspace)\n",
    "\n",
    "\n",
    "plt.figure(1)\n",
    "plt.subplot(121)\n",
    "# fig.set_size_inches(4,2)\n",
    "plt.plot(epoch_list,loss_list,label='loss')\n",
    "plt.title('誤差值趨勢圖')\n",
    "plt.xlabel('epoch')\n",
    "plt.ylabel('loss')\n",
    "plt.xlim(0,15)\n",
    "plt.legend(['loss'],loc='upper left')\n",
    "\n",
    "plt.subplot(122)\n",
    "plt.plot(epoch_list,accuracy_list,label='accuracy')\n",
    "plt.title('準確率趨勢圖')\n",
    "plt.xlabel('epoch')\n",
    "plt.ylabel('accuracy')\n",
    "plt.xlim(0,15)\n",
    "# plt.ylim(0.8,1) #設定Y軸顯示的範圍"
   ]
  },
  {
   "cell_type": "code",
   "execution_count": 10,
   "metadata": {},
   "outputs": [
    {
     "data": {
      "text/html": [
       "<div>\n",
       "<style scoped>\n",
       "    .dataframe tbody tr th:only-of-type {\n",
       "        vertical-align: middle;\n",
       "    }\n",
       "\n",
       "    .dataframe tbody tr th {\n",
       "        vertical-align: top;\n",
       "    }\n",
       "\n",
       "    .dataframe thead th {\n",
       "        text-align: right;\n",
       "    }\n",
       "</style>\n",
       "<table border=\"1\" class=\"dataframe\">\n",
       "  <thead>\n",
       "    <tr style=\"text-align: right;\">\n",
       "      <th></th>\n",
       "      <th>survived</th>\n",
       "      <th>name</th>\n",
       "      <th>pclass</th>\n",
       "      <th>sex</th>\n",
       "      <th>age</th>\n",
       "      <th>sibsp</th>\n",
       "      <th>parch</th>\n",
       "      <th>fare</th>\n",
       "      <th>embarked</th>\n",
       "      <th>probability</th>\n",
       "    </tr>\n",
       "  </thead>\n",
       "  <tbody>\n",
       "    <tr>\n",
       "      <th>0</th>\n",
       "      <td>0</td>\n",
       "      <td>Jack</td>\n",
       "      <td>3</td>\n",
       "      <td>male</td>\n",
       "      <td>23.0</td>\n",
       "      <td>1</td>\n",
       "      <td>0</td>\n",
       "      <td>5.0</td>\n",
       "      <td>S</td>\n",
       "      <td>0</td>\n",
       "    </tr>\n",
       "    <tr>\n",
       "      <th>1</th>\n",
       "      <td>1</td>\n",
       "      <td>Rose</td>\n",
       "      <td>1</td>\n",
       "      <td>female</td>\n",
       "      <td>20.0</td>\n",
       "      <td>1</td>\n",
       "      <td>0</td>\n",
       "      <td>100.0</td>\n",
       "      <td>S</td>\n",
       "      <td>0</td>\n",
       "    </tr>\n",
       "  </tbody>\n",
       "</table>\n",
       "</div>"
      ],
      "text/plain": [
       "   survived  name  pclass     sex   age  sibsp  parch   fare embarked  \\\n",
       "0         0  Jack       3    male  23.0      1      0    5.0        S   \n",
       "1         1  Rose       1  female  20.0      1      0  100.0        S   \n",
       "\n",
       "   probability  \n",
       "0            0  \n",
       "1            0  "
      ]
     },
     "execution_count": 10,
     "metadata": {},
     "output_type": "execute_result"
    }
   ],
   "source": [
    "all_df.insert(len(all_df.columns),'probability',prediction_result) #插入新的columns\n",
    "all_df[-2:]"
   ]
  },
  {
   "cell_type": "code",
   "execution_count": 11,
   "metadata": {},
   "outputs": [
    {
     "data": {
      "text/html": [
       "<div>\n",
       "<style scoped>\n",
       "    .dataframe tbody tr th:only-of-type {\n",
       "        vertical-align: middle;\n",
       "    }\n",
       "\n",
       "    .dataframe tbody tr th {\n",
       "        vertical-align: top;\n",
       "    }\n",
       "\n",
       "    .dataframe thead th {\n",
       "        text-align: right;\n",
       "    }\n",
       "</style>\n",
       "<table border=\"1\" class=\"dataframe\">\n",
       "  <thead>\n",
       "    <tr style=\"text-align: right;\">\n",
       "      <th></th>\n",
       "      <th>survived</th>\n",
       "      <th>name</th>\n",
       "      <th>pclass</th>\n",
       "      <th>sex</th>\n",
       "      <th>age</th>\n",
       "      <th>sibsp</th>\n",
       "      <th>parch</th>\n",
       "      <th>fare</th>\n",
       "      <th>embarked</th>\n",
       "      <th>probability</th>\n",
       "    </tr>\n",
       "  </thead>\n",
       "  <tbody>\n",
       "  </tbody>\n",
       "</table>\n",
       "</div>"
      ],
      "text/plain": [
       "Empty DataFrame\n",
       "Columns: [survived, name, pclass, sex, age, sibsp, parch, fare, embarked, probability]\n",
       "Index: []"
      ]
     },
     "execution_count": 11,
     "metadata": {},
     "output_type": "execute_result"
    }
   ],
   "source": [
    "all_df[(all_df.survived==0)&(all_df.probability>0.9)] #生存機率大於1卻死亡的名單"
   ]
  },
  {
   "cell_type": "code",
   "execution_count": 12,
   "metadata": {},
   "outputs": [
    {
     "data": {
      "text/html": [
       "<div>\n",
       "<style scoped>\n",
       "    .dataframe tbody tr th:only-of-type {\n",
       "        vertical-align: middle;\n",
       "    }\n",
       "\n",
       "    .dataframe tbody tr th {\n",
       "        vertical-align: top;\n",
       "    }\n",
       "\n",
       "    .dataframe thead th {\n",
       "        text-align: right;\n",
       "    }\n",
       "</style>\n",
       "<table border=\"1\" class=\"dataframe\">\n",
       "  <thead>\n",
       "    <tr style=\"text-align: right;\">\n",
       "      <th></th>\n",
       "      <th>survived</th>\n",
       "      <th>name</th>\n",
       "      <th>pclass</th>\n",
       "      <th>sex</th>\n",
       "      <th>age</th>\n",
       "      <th>sibsp</th>\n",
       "      <th>parch</th>\n",
       "      <th>fare</th>\n",
       "      <th>embarked</th>\n",
       "      <th>probability</th>\n",
       "    </tr>\n",
       "  </thead>\n",
       "  <tbody>\n",
       "    <tr>\n",
       "      <th>0</th>\n",
       "      <td>1</td>\n",
       "      <td>Allen, Miss. Elisabeth Walton</td>\n",
       "      <td>1</td>\n",
       "      <td>female</td>\n",
       "      <td>29.0000</td>\n",
       "      <td>0</td>\n",
       "      <td>0</td>\n",
       "      <td>211.3375</td>\n",
       "      <td>S</td>\n",
       "      <td>0</td>\n",
       "    </tr>\n",
       "    <tr>\n",
       "      <th>1</th>\n",
       "      <td>1</td>\n",
       "      <td>Allison, Master. Hudson Trevor</td>\n",
       "      <td>1</td>\n",
       "      <td>male</td>\n",
       "      <td>0.9167</td>\n",
       "      <td>1</td>\n",
       "      <td>2</td>\n",
       "      <td>151.5500</td>\n",
       "      <td>S</td>\n",
       "      <td>0</td>\n",
       "    </tr>\n",
       "    <tr>\n",
       "      <th>2</th>\n",
       "      <td>0</td>\n",
       "      <td>Allison, Miss. Helen Loraine</td>\n",
       "      <td>1</td>\n",
       "      <td>female</td>\n",
       "      <td>2.0000</td>\n",
       "      <td>1</td>\n",
       "      <td>2</td>\n",
       "      <td>151.5500</td>\n",
       "      <td>S</td>\n",
       "      <td>0</td>\n",
       "    </tr>\n",
       "    <tr>\n",
       "      <th>3</th>\n",
       "      <td>0</td>\n",
       "      <td>Allison, Mr. Hudson Joshua Creighton</td>\n",
       "      <td>1</td>\n",
       "      <td>male</td>\n",
       "      <td>30.0000</td>\n",
       "      <td>1</td>\n",
       "      <td>2</td>\n",
       "      <td>151.5500</td>\n",
       "      <td>S</td>\n",
       "      <td>0</td>\n",
       "    </tr>\n",
       "    <tr>\n",
       "      <th>4</th>\n",
       "      <td>0</td>\n",
       "      <td>Allison, Mrs. Hudson J C (Bessie Waldo Daniels)</td>\n",
       "      <td>1</td>\n",
       "      <td>female</td>\n",
       "      <td>25.0000</td>\n",
       "      <td>1</td>\n",
       "      <td>2</td>\n",
       "      <td>151.5500</td>\n",
       "      <td>S</td>\n",
       "      <td>0</td>\n",
       "    </tr>\n",
       "  </tbody>\n",
       "</table>\n",
       "</div>"
      ],
      "text/plain": [
       "   survived                                             name  pclass     sex  \\\n",
       "0         1                    Allen, Miss. Elisabeth Walton       1  female   \n",
       "1         1                   Allison, Master. Hudson Trevor       1    male   \n",
       "2         0                     Allison, Miss. Helen Loraine       1  female   \n",
       "3         0             Allison, Mr. Hudson Joshua Creighton       1    male   \n",
       "4         0  Allison, Mrs. Hudson J C (Bessie Waldo Daniels)       1  female   \n",
       "\n",
       "       age  sibsp  parch      fare embarked  probability  \n",
       "0  29.0000      0      0  211.3375        S            0  \n",
       "1   0.9167      1      2  151.5500        S            0  \n",
       "2   2.0000      1      2  151.5500        S            0  \n",
       "3  30.0000      1      2  151.5500        S            0  \n",
       "4  25.0000      1      2  151.5500        S            0  "
      ]
     },
     "execution_count": 12,
     "metadata": {},
     "output_type": "execute_result"
    }
   ],
   "source": [
    "all_df[:5]"
   ]
  }
 ],
 "metadata": {
  "kernelspec": {
   "display_name": "Python [conda env:tensorflow]",
   "language": "python",
   "name": "conda-env-tensorflow-py"
  },
  "language_info": {
   "codemirror_mode": {
    "name": "ipython",
    "version": 3
   },
   "file_extension": ".py",
   "mimetype": "text/x-python",
   "name": "python",
   "nbconvert_exporter": "python",
   "pygments_lexer": "ipython3",
   "version": "3.5.4"
  }
 },
 "nbformat": 4,
 "nbformat_minor": 2
}
